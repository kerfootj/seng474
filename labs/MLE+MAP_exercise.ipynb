{
 "cells": [
  {
   "cell_type": "markdown",
   "metadata": {},
   "source": [
    "# MLE and MAP estimation\n",
    "Data Mining Lab, UVic Spring 2020  <br>\n",
    "(YSant)"
   ]
  },
  {
   "cell_type": "code",
   "execution_count": null,
   "metadata": {},
   "outputs": [],
   "source": []
  },
  {
   "cell_type": "markdown",
   "metadata": {},
   "source": [
    "## Bernoulli distribution\n",
    "$$P\\left( D = (\\alpha_H, \\alpha_T) | \\theta \\right) = \\theta^{\\alpha_H} (1-\\theta)^{\\alpha_T}$$\n",
    "\n",
    "MLE:\n",
    "$$\\hat{\\theta}_{\\rm MLE} = \\frac{\\alpha_H}{\\alpha_H + \\alpha_T}$$\n",
    "\n",
    "MAP estimate:\n",
    "$$\\hat{\\theta}_{\\rm MAP} = \\frac{(\\alpha_H + \\gamma_H)}{(\\alpha_H + \\gamma_H) + (\\alpha_T + \\gamma_T)}$$\n"
   ]
  },
  {
   "cell_type": "code",
   "execution_count": null,
   "metadata": {},
   "outputs": [],
   "source": []
  },
  {
   "cell_type": "code",
   "execution_count": null,
   "metadata": {},
   "outputs": [],
   "source": []
  },
  {
   "cell_type": "markdown",
   "metadata": {},
   "source": [
    "## Univariate Normal Distribution:\n",
    "$$f(x) = \\frac{1}{\\sigma \\sqrt{2\\pi}} e^{-\\frac{1}{2} \\left( \\frac{x - \\mu}{\\sigma} \\right)^2} $$\n",
    "MLE: \n",
    "$$\\hat{\\mu}_{\\rm MLE} = \\frac{1}{n} \\sum_{j=1}^n x_j$$\n",
    "\n",
    "MAP estimate: <br>\n",
    "with prior $N(\\mu_0, \\sigma_m^2)$, and assume STD of data $\\sigma_v$ is known.\n",
    "$$\\hat{\\mu}_{\\rm MAP} = \\frac{\\sigma_m^2 \\left(\\sum_{j=1}^n x_j \\right) + \\sigma_v^2 \\mu_0}{\\sigma_m^2 n + \\sigma_v^2}$$\n"
   ]
  },
  {
   "cell_type": "code",
   "execution_count": null,
   "metadata": {},
   "outputs": [],
   "source": []
  },
  {
   "cell_type": "code",
   "execution_count": null,
   "metadata": {},
   "outputs": [],
   "source": []
  },
  {
   "cell_type": "code",
   "execution_count": null,
   "metadata": {},
   "outputs": [],
   "source": []
  }
 ],
 "metadata": {
  "kernelspec": {
   "display_name": "Python 3",
   "language": "python",
   "name": "python3"
  },
  "language_info": {
   "codemirror_mode": {
    "name": "ipython",
    "version": 3
   },
   "file_extension": ".py",
   "mimetype": "text/x-python",
   "name": "python",
   "nbconvert_exporter": "python",
   "pygments_lexer": "ipython3",
   "version": "3.6.7"
  }
 },
 "nbformat": 4,
 "nbformat_minor": 2
}
